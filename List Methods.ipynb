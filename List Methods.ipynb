{
 "cells": [
  {
   "cell_type": "code",
   "execution_count": 149,
   "id": "87b89b08-5c3a-4b7b-b1b6-e514c4edba16",
   "metadata": {},
   "outputs": [
    {
     "name": "stdout",
     "output_type": "stream",
     "text": [
      "21\n",
      "dotnet\n",
      "90.2\n",
      "60\n",
      "25 python 90.2 60\n",
      "------------\n",
      "25\n",
      "78.2\n",
      "99.99 python\n",
      "c\n",
      "21 java 4.6 H\n"
     ]
    }
   ],
   "source": [
    "#List \n",
    "\n",
    "list=[20,21,2,14,25]\n",
    "list1=[\"c\",\"c#\",\"python\",\"java\",\"dotnet\"]\n",
    "list2=[4.6,78.2,66.6,90.2]\n",
    "list3=[60,\"Hello\",99.99,\"H\"]\n",
    "\n",
    "print(list[1])                     #Positive Index\n",
    "print(list1[4])\n",
    "print(list2[3])\n",
    "print(list3[0])\n",
    "print(list[4],list1[2],list2[3],list3[0])\n",
    "\n",
    "print(\"------------\")\n",
    "\n",
    "print(list[-1])                     #Negative Index\n",
    "print(list2[-3])\n",
    "print(list3[-2],list1[-3])\n",
    "print(list1[-5])\n",
    "print(list[-4],list1[-2],list2[-4],list3[-1])"
   ]
  },
  {
   "cell_type": "code",
   "execution_count": 158,
   "id": "d81011ef-196f-4be5-b4fd-e99db5edf9e8",
   "metadata": {},
   "outputs": [
    {
     "name": "stdout",
     "output_type": "stream",
     "text": [
      "['black', 'pink', 'red', 'blue', 'yellow']\n",
      "['pink', 'red'] [34, 68, 90.6, 7, 88.88] ['H', 'J', 'K', 'A', 'T']\n",
      "['J', 'K', 'A', 'T']\n",
      "[21, 34, 68, 90.6]\n",
      "['J', 'K', 'A']\n"
     ]
    }
   ],
   "source": [
    "#Slicing\n",
    "\n",
    "colors=[\"white\",\"black\",\"pink\",\"red\",\"blue\",\"yellow\"]\n",
    "numbers=[21,34,68,90.6,7,88.88]\n",
    "characters=['H','J','K','A','T']\n",
    "\n",
    "print(colors[1:6])\n",
    "print(colors[2:4],numbers[1:],characters[:5])\n",
    "print(characters[1:])\n",
    "print(numbers[:4])\n",
    "print(characters[1:4])"
   ]
  },
  {
   "cell_type": "code",
   "execution_count": 174,
   "id": "65c77173-b359-4642-89b6-5202f0bb3df6",
   "metadata": {},
   "outputs": [
    {
     "name": "stdout",
     "output_type": "stream",
     "text": [
      "['Dog', 'Cat', 'Lion', 'Cow', 'Buffalo', 21, 56, 89, 90, 45]\n",
      "['Jayanthi', 'Sravani', 'Haritha', 'Divya', 'Kavitha', 'Valli', 21, 56, 89, 90, 45, 'Dog', 'Cat', 'Lion', 'Cow', 'Buffalo']\n",
      "['Cat', 'Lion', 'Cow', 89, 90, 45]\n",
      "[56, 89, 90, 45, 'Jayanthi', 'Sravani', 'Haritha', 'Divya', 'Kavitha', 'Valli']\n",
      "['Sravani', 'Haritha', 'Divya', 'Kavitha'] [21, 56, 89, 90] ['Dog', 'Cat', 'Lion', 'Cow', 'Buffalo']\n",
      "------------\n",
      "[21, 56, 89, 90, 45, 21, 56, 89, 90, 45]\n",
      "['Cat', 'Lion', 'Cow', 'Cat', 'Lion', 'Cow', 'Cat', 'Lion', 'Cow']\n",
      "['Dog', 'Cat', 'Lion', 'Cow', 'Buffalo'] [56, 89, 90, 56, 89, 90]\n",
      "[56, 89, 90, 45, 'Jayanthi', 'Sravani', 'Haritha', 'Divya', 'Kavitha', 'Valli', 'Jayanthi', 'Sravani', 'Haritha', 'Divya', 'Kavitha', 'Valli']\n",
      "['Divya', 'Kavitha', 'Valli', 'Divya', 'Kavitha', 'Valli'] [21, 56, 89, 90, 45] ['Lion', 'Cow', 'Buffalo', 'Lion', 'Cow', 'Buffalo', 'Lion', 'Cow', 'Buffalo']\n"
     ]
    }
   ],
   "source": [
    "#List Operations\n",
    "\n",
    "animals=[\"Dog\",\"Cat\",\"Lion\",\"Cow\",\"Buffalo\"]\n",
    "names=[\"Jayanthi\",\"Sravani\",\"Haritha\",\"Divya\",\"Kavitha\",\"Valli\"]\n",
    "digits =[21,56,89,90,45]\n",
    "\n",
    "print(animals+digits)                     #Concatination\n",
    "print(names+digits+animals)\n",
    "print(animals[1:4]+digits[2:5])\n",
    "print(digits[1:6]+names)\n",
    "print(names[1:5],digits[:4],animals[:])\n",
    "\n",
    "print(\"------------\")\n",
    "\n",
    "print(digits*2)                         #Repitition\n",
    "print(animals[1:4]*3)\n",
    "print(animals*1,digits[1:4]*2)\n",
    "print(digits[1:6]+names*2)\n",
    "print(names[3:6]*2,digits*1,animals[2:5]*3)"
   ]
  },
  {
   "cell_type": "code",
   "execution_count": 192,
   "id": "f70ed2b5-3456-42d5-b250-ff06f8b7cb97",
   "metadata": {},
   "outputs": [
    {
     "name": "stdout",
     "output_type": "stream",
     "text": [
      "[20, 21, 45, 99, 10]\n",
      "['Apple', 'Banana', 'Grapes', 'Kiwi', 'Watermelon']\n",
      "[2.9, 4.4, 5.0, 99.99]\n",
      "['H', 'H', 'K', 'J', 'U', 'K']\n",
      "['Jayanthi', 'Sravani', 'Haritha', 'Divya', 'Kavitha', 'Valli', 'Harika']\n"
     ]
    }
   ],
   "source": [
    "#List Methods\n",
    "numbers =[20,21,45,99]\n",
    "strings=[\"Apple\",\"Banana\",\"Grapes\",\"Kiwi\"]\n",
    "float=[2.9,4.4,5.0]\n",
    "characters=[\"H\",\"H\",\"K\",\"J\",\"U\"]\n",
    "names=[\"Jayanthi\",\"Sravani\",\"Haritha\",\"Divya\",\"Kavitha\",\"Valli\"]\n",
    "\n",
    "numbers.append(10)                       #append\n",
    "strings.append(\"Watermelon\")\n",
    "float.append(99.99)\n",
    "characters.append(\"K\")\n",
    "names.append(\"Harika\")\n",
    "\n",
    "print(numbers)\n",
    "print(strings)\n",
    "print(float)\n",
    "print(characters)\n",
    "print(names)\n"
   ]
  },
  {
   "cell_type": "code",
   "execution_count": 187,
   "id": "3b2d7212-39cb-48ab-93ff-7cffd4d2f53e",
   "metadata": {},
   "outputs": [
    {
     "name": "stdout",
     "output_type": "stream",
     "text": [
      "[20, 21, 45, 99, 2.9, 4.4, 5.0]\n",
      "['Jayanthi', 'Sravani', 'Haritha', 'Divya', 'Kavitha', 'Valli', 20, 21, 45, 99, 2.9, 4.4, 5.0]\n",
      "['Apple', 'Banana', 'Grapes', 'Kiwi', 'Jayanthi', 'Sravani', 'Haritha', 'Divya', 'Kavitha', 'Valli', 20, 21, 45, 99, 2.9, 4.4, 5.0]\n",
      "['H', 'H', 'K', 'J', 'U', 'Apple', 'Banana', 'Grapes', 'Kiwi', 'Jayanthi', 'Sravani', 'Haritha', 'Divya', 'Kavitha', 'Valli', 20, 21, 45, 99, 2.9, 4.4, 5.0]\n",
      "[2.9, 4.4, 5.0, 20, 21, 45, 99, 2.9, 4.4, 5.0]\n"
     ]
    }
   ],
   "source": [
    "\n",
    "numbers =[20,21,45,99]                                      #extend                      \n",
    "strings=[\"Apple\",\"Banana\",\"Grapes\",\"Kiwi\"]\n",
    "float=[2.9,4.4,5.0]\n",
    "characters=[\"H\",\"H\",\"K\",\"J\",\"U\"]\n",
    "names=[\"Jayanthi\",\"Sravani\",\"Haritha\",\"Divya\",\"Kavitha\",\"Valli\"]\n",
    "\n",
    "numbers.extend(float)\n",
    "names.extend(numbers)\n",
    "strings.extend(names)\n",
    "characters.extend(strings)\n",
    "float.extend(numbers)\n",
    "\n",
    "print(numbers)\n",
    "print(names)\n",
    "print(strings)\n",
    "print(characters)\n",
    "print(float)"
   ]
  },
  {
   "cell_type": "code",
   "execution_count": 227,
   "id": "2300a38d-8ec3-4aab-acc1-32c623836d94",
   "metadata": {},
   "outputs": [
    {
     "name": "stdout",
     "output_type": "stream",
     "text": [
      "[20, 21, 22, 45, 99]\n",
      "['Dragon fruit', 'Apple', 'Banana', 'Grapes', 'Kiwi']\n",
      "[2.9, 4.4, 5.0, 5.0]\n",
      "['H', 'H', 'K', 'J', 'N', 'U']\n",
      "['Jayanthi', 'Sravani', 'Haritha', 'Divya', 'Kavitha', 'Valli', 'Harika']\n"
     ]
    }
   ],
   "source": [
    "numbers =[20,21,45,99]                                      #insert                      \n",
    "strings=[\"Apple\",\"Banana\",\"Grapes\",\"Kiwi\"]\n",
    "float=[2.9,4.4,5.0]\n",
    "characters=[\"H\",\"H\",\"K\",\"J\",\"U\"]\n",
    "names=[\"Jayanthi\",\"Sravani\",\"Haritha\",\"Divya\",\"Kavitha\",\"Valli\"]\n",
    "\n",
    "numbers.insert(2,22)\n",
    "strings.insert(0,\"Dragon fruit\")\n",
    "float.insert(21,5.0)\n",
    "characters.insert(4,\"N\")\n",
    "names.insert(6,\"Harika\")\n",
    "\n",
    "print(numbers)\n",
    "print(strings)\n",
    "print(float)\n",
    "print(characters)\n",
    "print(names)"
   ]
  },
  {
   "cell_type": "code",
   "execution_count": 197,
   "id": "ca4e4a48-5834-43f8-a4c3-85aad14f625a",
   "metadata": {},
   "outputs": [
    {
     "name": "stdout",
     "output_type": "stream",
     "text": [
      "[21, 45, 99, 20]\n",
      "['Apple', 'Banana', 'Grapes']\n",
      "[2.9, 5.0]\n",
      "['H', 'K', 'J', 'U']\n",
      "['Jayanthi', 'Sravani', 'Divya', 'Kavitha', 'Valli', 'Haritha']\n"
     ]
    }
   ],
   "source": [
    "numbers =[20,21,45,99,20]                                      #remove                      \n",
    "strings=[\"Apple\",\"Banana\",\"Grapes\",\"Kiwi\"]\n",
    "float=[2.9,4.4,5.0]\n",
    "characters=[\"H\",\"H\",\"K\",\"J\",\"U\"]\n",
    "names=[\"Jayanthi\",\"Sravani\",\"Haritha\",\"Divya\",\"Kavitha\",\"Valli\",\"Haritha\"]\n",
    "\n",
    "numbers.remove(20)\n",
    "strings.remove(\"Kiwi\")\n",
    "float.remove(4.4)\n",
    "characters.remove(\"H\")\n",
    "names.remove(\"Haritha\")\n",
    "\n",
    "print(numbers)\n",
    "print(strings)\n",
    "print(float)\n",
    "print(characters)\n",
    "print(names)"
   ]
  },
  {
   "cell_type": "code",
   "execution_count": 225,
   "id": "e522645d-5c52-4783-8b7e-03ef162504e8",
   "metadata": {},
   "outputs": [
    {
     "name": "stdout",
     "output_type": "stream",
     "text": [
      "[20, 21, 99]\n",
      "['Apple', 'Banana', 'Grapes']\n",
      "[2.9, 4.4]\n",
      "['H', 'K', 'J', 'U']\n",
      "['Jayanthi', 'Sravani', 'Haritha', 'Kavitha', 'Valli']\n"
     ]
    }
   ],
   "source": [
    "numbers =[20,21,45,99]                                      #pop                      \n",
    "strings=[\"Apple\",\"Banana\",\"Grapes\",\"Kiwi\"]\n",
    "float=[2.9,4.4,5.0]\n",
    "characters=[\"H\",\"H\",\"K\",\"J\",\"U\"]\n",
    "names=[\"Jayanthi\",\"Sravani\",\"Haritha\",\"Divya\",\"Kavitha\",\"Valli\"]\n",
    "\n",
    "numbers.pop(2)\n",
    "strings.pop(-1)\n",
    "float.pop()\n",
    "characters.pop(0)\n",
    "names.pop(3)\n",
    "\n",
    "print(numbers)\n",
    "print(strings)\n",
    "print(float)\n",
    "print(characters)\n",
    "print(names)"
   ]
  },
  {
   "cell_type": "code",
   "execution_count": 208,
   "id": "56de50c9-e2f4-4158-ab2f-faee18ce9409",
   "metadata": {},
   "outputs": [
    {
     "name": "stdout",
     "output_type": "stream",
     "text": [
      "0\n",
      "3\n",
      "2\n",
      "5\n",
      "0\n"
     ]
    }
   ],
   "source": [
    "numbers =[20,21,45,99]                                      #index                      \n",
    "strings=[\"Apple\",\"Banana\",\"Grapes\",\"Kiwi\"]\n",
    "float=[2.9,4.4,5.0]\n",
    "characters=[\"H\",\"H\",\"K\",\"J\",\"U\"]\n",
    "names=[\"Jayanthi\",\"Sravani\",\"Haritha\",\"Divya\",\"Kavitha\",\"Valli\"]\n",
    "\n",
    "n1=numbers.index(20)\n",
    "n2=strings.index(\"Kiwi\")\n",
    "n3=float.index(5.0)\n",
    "n4=names.index(\"Valli\")\n",
    "n5=characters.index(\"H\")\n",
    "print(n1)\n",
    "print(n2)\n",
    "print(n3)\n",
    "print(n4)\n",
    "print(n5)"
   ]
  },
  {
   "cell_type": "code",
   "execution_count": 216,
   "id": "5358a76f-6a7f-44a8-93b7-478854f1f83a",
   "metadata": {},
   "outputs": [
    {
     "name": "stdout",
     "output_type": "stream",
     "text": [
      "3\n",
      "1\n",
      "(1, 1)\n",
      "2\n",
      "1\n"
     ]
    }
   ],
   "source": [
    "numbers =[20,21,45,99,20,20]                                      #count                      \n",
    "strings=[\"Apple\",\"Banana\",\"Grapes\",\"Kiwi\"]\n",
    "float=[2.9,4.4,5.0]\n",
    "characters=[\"H\",\"H\",\"K\",\"J\",\"U\"]\n",
    "names=[\"Jayanthi\",\"Sravani\",\"Haritha\",\"Divya\",\"Kavitha\",\"Valli\"]\n",
    "\n",
    "n1=numbers.count(20)\n",
    "n2=strings.count(\"Grapes\")\n",
    "n3=float.count(5.0),float.count(4.4)\n",
    "n4=characters.count(\"H\")\n",
    "n5=names.count(\"Sravani\")\n",
    "print(n1)\n",
    "print(n2)\n",
    "print(n3)\n",
    "print(n4)\n",
    "print(n5)"
   ]
  },
  {
   "cell_type": "code",
   "execution_count": 223,
   "id": "7b7ef0b1-953e-4b75-b818-bda669859573",
   "metadata": {},
   "outputs": [
    {
     "name": "stdout",
     "output_type": "stream",
     "text": [
      "[20, 21, 45, 99]\n",
      "['Apple', 'Banana', 'Grapes', 'Kiwi']\n",
      "[1.45, 2.9, 4.4, 5.0]\n",
      "['H', 'J', 'K', 'N', 'U']\n",
      "['Divya', 'Haritha', 'Jayanthi', 'Kavitha', 'Sravani', 'Valli']\n",
      "-----------\n",
      "[99, 45, 21, 20]\n",
      "['Kiwi', 'Grapes', 'Banana', 'Apple']\n",
      "[5.0, 4.4, 2.9, 1.45]\n",
      "['U', 'N', 'K', 'J', 'H']\n",
      "['Valli', 'Sravani', 'Kavitha', 'Jayanthi', 'Haritha', 'Divya']\n"
     ]
    }
   ],
   "source": [
    "numbers =[20,21,45,99]                                      #sort                      \n",
    "strings=[\"Apple\",\"Banana\",\"Grapes\",\"Kiwi\"]\n",
    "float=[2.9,4.4,5.0,1.45]\n",
    "characters=[\"H\",\"N\",\"K\",\"J\",\"U\"]\n",
    "names=[\"Jayanthi\",\"Sravani\",\"Haritha\",\"Divya\",\"Kavitha\",\"Valli\"]\n",
    "\n",
    "numbers.sort()\n",
    "strings.sort()\n",
    "float.sort()\n",
    "characters.sort()\n",
    "names.sort()\n",
    "print(numbers)\n",
    "print(strings)\n",
    "print(float)\n",
    "print(characters)\n",
    "print(names)\n",
    "\n",
    "print(\"-----------\")\n",
    "\n",
    "numbers.reverse()                                      #reverse\n",
    "strings.reverse()\n",
    "float.reverse()\n",
    "characters.reverse()\n",
    "names.reverse()\n",
    "print(numbers)\n",
    "print(strings)\n",
    "print(float)\n",
    "print(characters)\n",
    "print(names)"
   ]
  },
  {
   "cell_type": "code",
   "execution_count": null,
   "id": "efd79f4f-f89d-4f6e-8944-2285cf2cf227",
   "metadata": {},
   "outputs": [],
   "source": []
  }
 ],
 "metadata": {
  "kernelspec": {
   "display_name": "Python 3 (ipykernel)",
   "language": "python",
   "name": "python3"
  },
  "language_info": {
   "codemirror_mode": {
    "name": "ipython",
    "version": 3
   },
   "file_extension": ".py",
   "mimetype": "text/x-python",
   "name": "python",
   "nbconvert_exporter": "python",
   "pygments_lexer": "ipython3",
   "version": "3.11.7"
  }
 },
 "nbformat": 4,
 "nbformat_minor": 5
}
