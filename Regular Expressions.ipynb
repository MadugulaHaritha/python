{
 "cells": [
  {
   "cell_type": "code",
   "execution_count": 10,
   "id": "ce8065da-434c-40ba-abb7-49841242abe2",
   "metadata": {},
   "outputs": [
    {
     "name": "stdout",
     "output_type": "stream",
     "text": [
      "['a', 'a', 'a', 'a']\n",
      "['i', 'i']\n",
      "2\n",
      "['I', 'am', 'learning', 'DataScience']\n",
      "I_am_learning_DataScience\n"
     ]
    }
   ],
   "source": [
    "#Find all\n",
    "import re\n",
    "\n",
    "sentence=\"I am learning DataScience\"\n",
    "find=re.findall(\"a\",sentence)\n",
    "res=re.findall(\"i\",sentence)\n",
    "print(find)\n",
    "print(res)\n",
    "\n",
    "#Search\n",
    "sentence=\"I am learning DataScience\"\n",
    "search=re.search(\"a\",sentence)\n",
    "print(search.start())\n",
    "\n",
    "#Split\n",
    "\n",
    "sentence=\"I am learning DataScience\"\n",
    "split=re.split(\"\\s\",sentence)\n",
    "print(split)\n",
    "\n",
    "#Sub--replace\n",
    "\n",
    "sentence=\"I am learning DataScience\"\n",
    "replace=re.sub(\"\\s\",\"_\",sentence)\n",
    "print(replace)"
   ]
  },
  {
   "cell_type": "code",
   "execution_count": null,
   "id": "18cbe29f-2edd-417a-893d-7766c45e41ef",
   "metadata": {},
   "outputs": [],
   "source": []
  }
 ],
 "metadata": {
  "kernelspec": {
   "display_name": "Python 3 (ipykernel)",
   "language": "python",
   "name": "python3"
  },
  "language_info": {
   "codemirror_mode": {
    "name": "ipython",
    "version": 3
   },
   "file_extension": ".py",
   "mimetype": "text/x-python",
   "name": "python",
   "nbconvert_exporter": "python",
   "pygments_lexer": "ipython3",
   "version": "3.11.7"
  }
 },
 "nbformat": 4,
 "nbformat_minor": 5
}
