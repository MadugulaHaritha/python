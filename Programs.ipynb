{
 "cells": [
  {
   "cell_type": "code",
   "execution_count": 8,
   "id": "876d31a6-c264-4264-9b43-54d0bb49fec2",
   "metadata": {},
   "outputs": [
    {
     "name": "stdin",
     "output_type": "stream",
     "text": [
      "Enter your age: 10\n"
     ]
    },
    {
     "name": "stdout",
     "output_type": "stream",
     "text": [
      "You are not eligible to vote.\n"
     ]
    }
   ],
   "source": [
    "#Voting\n",
    "\n",
    "age=int(input(\"Enter your age:\"))\n",
    "if age>=18:\n",
    "    print(\"You are eligible to vote.\")\n",
    "else:\n",
    "    print(\"You are not eligible to vote.\")"
   ]
  },
  {
   "cell_type": "code",
   "execution_count": 38,
   "id": "3861d779-b2e5-4beb-9101-9c1f7280752b",
   "metadata": {},
   "outputs": [
    {
     "name": "stdin",
     "output_type": "stream",
     "text": [
      "Enter First number: 897\n",
      "Enter Second number: 93\n",
      "Enter Third number: 110\n"
     ]
    },
    {
     "name": "stdout",
     "output_type": "stream",
     "text": [
      "897\n"
     ]
    }
   ],
   "source": [
    "#Largest number\n",
    "a=int(input(\"Enter First number:\"))\n",
    "b=int(input(\"Enter Second number:\"))\n",
    "c=int(input(\"Enter Third number:\"))\n",
    "if(a>b and a>c):\n",
    "    print(a)\n",
    "elif(b>a and b>c):\n",
    "    print(b)\n",
    "else:\n",
    "    print(c)"
   ]
  },
  {
   "cell_type": "code",
   "execution_count": 149,
   "id": "7bccc693-ee42-48ae-aebc-cb7d7af0e292",
   "metadata": {},
   "outputs": [
    {
     "name": "stdin",
     "output_type": "stream",
     "text": [
      "Enter a string: HARItha\n"
     ]
    },
    {
     "name": "stdout",
     "output_type": "stream",
     "text": [
      "A\n",
      "I\n",
      "a\n"
     ]
    }
   ],
   "source": [
    "#Vowels\n",
    "Word=input(\"Enter a string:\")\n",
    "#vowels=[\"a\",\"e\",\"i\",\"o\",\"u\",\"A\",\"E\",\"I\",\"O\",\"U\"]\n",
    "vowels=\"aeiouAEIOU\"\n",
    "for x in Word:\n",
    "    if x in vowels:\n",
    "        print(x)\n",
    "   "
   ]
  },
  {
   "cell_type": "code",
   "execution_count": 37,
   "id": "b1b66806-20c4-4a64-8ae9-7a728b43e212",
   "metadata": {},
   "outputs": [
    {
     "name": "stdin",
     "output_type": "stream",
     "text": [
      "Enter a string: haritha\n"
     ]
    },
    {
     "name": "stdout",
     "output_type": "stream",
     "text": [
      "h\n",
      "r\n",
      "t\n",
      "h\n"
     ]
    }
   ],
   "source": [
    "#Consonants\n",
    "Word=input(\"Enter a string:\")\n",
    "vowels=\"aeiouAEIOU\"\n",
    "for x in Word:\n",
    "    if x not in vowels:\n",
    "        print(x)"
   ]
  },
  {
   "cell_type": "code",
   "execution_count": 40,
   "id": "de69a445-fb8c-46e5-b30a-91557df2c69e",
   "metadata": {},
   "outputs": [
    {
     "name": "stdin",
     "output_type": "stream",
     "text": [
      "Enter a string: haritha\n"
     ]
    },
    {
     "name": "stdout",
     "output_type": "stream",
     "text": [
      "2\n"
     ]
    }
   ],
   "source": [
    "#Character Occurance\n",
    "Word=input(\"Enter a string:\")\n",
    "count=Word.count(\"a\")\n",
    "print(count)"
   ]
  },
  {
   "cell_type": "code",
   "execution_count": 180,
   "id": "4a8d6a25-a077-4ee7-811e-c6dc96adfe1d",
   "metadata": {},
   "outputs": [
    {
     "name": "stdin",
     "output_type": "stream",
     "text": [
      "Enter a number: 17\n"
     ]
    },
    {
     "name": "stdout",
     "output_type": "stream",
     "text": [
      "prime\n"
     ]
    }
   ],
   "source": [
    "#Prime number\n",
    "n=int(input(\"Enter a number:\"))\n",
    "for i in range(2,n):\n",
    "    if n%i==0:\n",
    "        print(\"not prime\")\n",
    "        break\n",
    "else:\n",
    "    print(\"prime\")"
   ]
  },
  {
   "cell_type": "code",
   "execution_count": 135,
   "id": "9984d435-3f82-4a86-aee2-11253bb785ac",
   "metadata": {},
   "outputs": [
    {
     "name": "stdin",
     "output_type": "stream",
     "text": [
      "Enter a number: 10\n"
     ]
    },
    {
     "name": "stdout",
     "output_type": "stream",
     "text": [
      "0\n",
      "1\n",
      "1\n",
      "2\n",
      "3\n",
      "5\n",
      "8\n",
      "13\n"
     ]
    }
   ],
   "source": [
    "#Fibonacci series\n",
    "\n",
    "num=int(input(\"Enter a number:\"))\n",
    "n1=0\n",
    "n2=1\n",
    "print(n1)\n",
    "print(n2)\n",
    "for i in range(2,num):\n",
    "    \n",
    "    n3=n1+n2\n",
    "    n1=n2\n",
    "    n2=n3\n",
    "    print(n3)\n",
    "    \n",
    "\n"
   ]
  },
  {
   "cell_type": "code",
   "execution_count": 82,
   "id": "e12ef949-9690-4b55-8a31-f14cd920fb9f",
   "metadata": {},
   "outputs": [
    {
     "name": "stdout",
     "output_type": "stream",
     "text": [
      "101\n"
     ]
    }
   ],
   "source": [
    "#Maximum number in a list\n",
    "\n",
    "list_1=[20,21,99,100,10,11,101]\n",
    "print(max(list_1))"
   ]
  },
  {
   "cell_type": "code",
   "execution_count": 83,
   "id": "30484ba9-46fb-48b8-b1c4-e7d5c8127876",
   "metadata": {},
   "outputs": [
    {
     "name": "stdout",
     "output_type": "stream",
     "text": [
      "9\n"
     ]
    }
   ],
   "source": [
    "#Minimum number in a list\n",
    "\n",
    "list=[20,21,10,11,9]\n",
    "print(min(list))"
   ]
  },
  {
   "cell_type": "code",
   "execution_count": 148,
   "id": "bda8f82c-f763-4667-a501-237ac4571238",
   "metadata": {},
   "outputs": [
    {
     "name": "stdout",
     "output_type": "stream",
     "text": [
      "7\n",
      "10.0\n"
     ]
    }
   ],
   "source": [
    "#Middle number in a list\n",
    "\n",
    "import statistics\n",
    "\n",
    "list=[20,21,0,11,9,4,20,8]\n",
    "length=len(list)\n",
    "print(statistics.median([1, 3, 5, 9, 7, 11, 13]))\n",
    "print(statistics.median(list))\n"
   ]
  },
  {
   "cell_type": "code",
   "execution_count": 155,
   "id": "feb48f07-5ee6-4725-ad61-4a311fa99f97",
   "metadata": {},
   "outputs": [
    {
     "name": "stdout",
     "output_type": "stream",
     "text": [
      "String is:Haritha Harika\n"
     ]
    }
   ],
   "source": [
    "#Convert list to string\n",
    "\n",
    "list=[\"Haritha\",\"Harika\"]\n",
    "sentence=\" \".join(list)\n",
    "print(f\"String is:{sentence}\")"
   ]
  },
  {
   "cell_type": "code",
   "execution_count": 156,
   "id": "90f7757b-166a-4174-adce-655315e15708",
   "metadata": {},
   "outputs": [
    {
     "name": "stdout",
     "output_type": "stream",
     "text": [
      "IamLearningDatascience\n"
     ]
    }
   ],
   "source": [
    "#Remove whitespaces in a string\n",
    "\n",
    "sentence=\"I am Learning Data science\"\n",
    "str=sentence.replace(\" \",\"\")\n",
    "print(str)"
   ]
  },
  {
   "cell_type": "code",
   "execution_count": 197,
   "id": "779c1be6-a48c-4f5a-9f35-ba68d686c8c0",
   "metadata": {},
   "outputs": [
    {
     "name": "stdin",
     "output_type": "stream",
     "text": [
      "Enter a string: haritha\n"
     ]
    },
    {
     "name": "stdout",
     "output_type": "stream",
     "text": [
      "Reversed string: ahtirah\n"
     ]
    }
   ],
   "source": [
    "def reverse_string(string):\n",
    "    return string[::-1]\n",
    "\n",
    "# Example usage:\n",
    "str=input(\"Enter a string:\")\n",
    "print(\"Reversed string:\", reverse_string(str))\n"
   ]
  },
  {
   "cell_type": "code",
   "execution_count": null,
   "id": "f8fc7eef-e9bb-4da2-88f4-1f3fec4e2f68",
   "metadata": {},
   "outputs": [],
   "source": []
  }
 ],
 "metadata": {
  "kernelspec": {
   "display_name": "Python 3 (ipykernel)",
   "language": "python",
   "name": "python3"
  },
  "language_info": {
   "codemirror_mode": {
    "name": "ipython",
    "version": 3
   },
   "file_extension": ".py",
   "mimetype": "text/x-python",
   "name": "python",
   "nbconvert_exporter": "python",
   "pygments_lexer": "ipython3",
   "version": "3.11.7"
  }
 },
 "nbformat": 4,
 "nbformat_minor": 5
}
