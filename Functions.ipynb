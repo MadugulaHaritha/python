{
 "cells": [
  {
   "cell_type": "code",
   "execution_count": 3,
   "id": "efb16bd2-6da7-473c-8bc1-bf474e91a40b",
   "metadata": {},
   "outputs": [
    {
     "name": "stdout",
     "output_type": "stream",
     "text": [
      "Basic Function\n"
     ]
    }
   ],
   "source": [
    "def start():\n",
    "    print(\"Basic Function\")\n",
    "\n",
    "start()"
   ]
  },
  {
   "cell_type": "code",
   "execution_count": 1,
   "id": "4204e85a-24dd-41c1-b87b-4ff77477b5c2",
   "metadata": {},
   "outputs": [
    {
     "data": {
      "text/plain": [
       "51"
      ]
     },
     "execution_count": 1,
     "metadata": {},
     "output_type": "execute_result"
    }
   ],
   "source": [
    "def add(a,b,c):\n",
    "    res=a+b+c\n",
    "    return res\n",
    "\n",
    "add(10,20,21)\n",
    "    "
   ]
  },
  {
   "cell_type": "code",
   "execution_count": 13,
   "id": "67a5bee5-4047-41c7-a747-8f61cde6e87b",
   "metadata": {},
   "outputs": [
    {
     "name": "stdout",
     "output_type": "stream",
     "text": [
      "1.4142135623730951\n"
     ]
    }
   ],
   "source": [
    "#Library Functions\n",
    "\n",
    "import math\n",
    "\n",
    "def func(a):\n",
    "    sq=math.sqrt(5)\n",
    "    \n",
    "\n",
    "print(sq)\n",
    "\n",
    "\n"
   ]
  },
  {
   "cell_type": "code",
   "execution_count": 15,
   "id": "66b2e547-5f12-4d3c-8e50-b4474e688789",
   "metadata": {},
   "outputs": [
    {
     "name": "stdout",
     "output_type": "stream",
     "text": [
      "30\n"
     ]
    }
   ],
   "source": [
    "#Lambda Functions\n",
    "\n",
    "def myfun(n):\n",
    "    return lambda a:a*n\n",
    "\n",
    "mult=myfun(6)\n",
    "print(mult(5))"
   ]
  }
 ],
 "metadata": {
  "kernelspec": {
   "display_name": "Python 3 (ipykernel)",
   "language": "python",
   "name": "python3"
  },
  "language_info": {
   "codemirror_mode": {
    "name": "ipython",
    "version": 3
   },
   "file_extension": ".py",
   "mimetype": "text/x-python",
   "name": "python",
   "nbconvert_exporter": "python",
   "pygments_lexer": "ipython3",
   "version": "3.11.7"
  }
 },
 "nbformat": 4,
 "nbformat_minor": 5
}
