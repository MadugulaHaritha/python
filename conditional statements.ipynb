{
 "cells": [
  {
   "cell_type": "code",
   "execution_count": 18,
   "id": "a2f81235-554e-4ac1-a6b0-ea9aec3131e0",
   "metadata": {},
   "outputs": [
    {
     "name": "stdout",
     "output_type": "stream",
     "text": [
      "number is less than 21\n"
     ]
    },
    {
     "name": "stdin",
     "output_type": "stream",
     "text": [
      "Enter a number: 21\n"
     ]
    },
    {
     "name": "stdout",
     "output_type": "stream",
     "text": [
      "positive number.\n"
     ]
    }
   ],
   "source": [
    "# if statement\n",
    "\n",
    "i=20\n",
    "if i<21:\n",
    "    print(\"number is less than 21\")\n",
    "\n",
    "x=int(input(\"Enter a number:\"))\n",
    "if x>=0:\n",
    "    print(\"positive number.\")\n",
    "\n"
   ]
  },
  {
   "cell_type": "code",
   "execution_count": 20,
   "id": "573c996c-e35c-420f-8185-cb5f07023723",
   "metadata": {},
   "outputs": [
    {
     "name": "stdin",
     "output_type": "stream",
     "text": [
      "Enter a number: 21\n"
     ]
    },
    {
     "name": "stdout",
     "output_type": "stream",
     "text": [
      "Odd number.\n"
     ]
    }
   ],
   "source": [
    "#else statement\n",
    "\n",
    "x=int(input(\"Enter a number:\"))\n",
    "if x%2==0:\n",
    "    print(\"Even number.\")\n",
    "else:\n",
    "    print(\"Odd number.\")"
   ]
  },
  {
   "cell_type": "code",
   "execution_count": null,
   "id": "572c137e-1c4c-4908-9004-6c95537d0d37",
   "metadata": {},
   "outputs": [],
   "source": [
    "#else-if statement\n",
    "\n",
    "y=int(input(\"Enter a number:\"))\n",
    "if y>0:\n",
    "    print(\"positive number.\")\n",
    "elif y<0:\n",
    "    print(\"negative number.\")\n",
    "else:\n",
    "    print(\"zero.\")\n",
    "    \n",
    "    "
   ]
  }
 ],
 "metadata": {
  "kernelspec": {
   "display_name": "Python 3 (ipykernel)",
   "language": "python",
   "name": "python3"
  },
  "language_info": {
   "codemirror_mode": {
    "name": "ipython",
    "version": 3
   },
   "file_extension": ".py",
   "mimetype": "text/x-python",
   "name": "python",
   "nbconvert_exporter": "python",
   "pygments_lexer": "ipython3",
   "version": "3.11.7"
  }
 },
 "nbformat": 4,
 "nbformat_minor": 5
}
