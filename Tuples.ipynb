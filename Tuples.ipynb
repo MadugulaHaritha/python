{
 "cells": [
  {
   "cell_type": "markdown",
   "id": "14e38e41-57ad-4b6b-a1e3-dece8e81f01f",
   "metadata": {},
   "source": [
    "# Tuples"
   ]
  },
  {
   "cell_type": "code",
   "execution_count": 10,
   "id": "9e678d57-c325-4819-9594-ede9b60c447a",
   "metadata": {},
   "outputs": [
    {
     "name": "stdout",
     "output_type": "stream",
     "text": [
      "('White', 'Blue', 'Pink', 'Green')\n",
      "20.21\n",
      "('Blue', 'Pink', 'Green')\n",
      "(20,)\n"
     ]
    }
   ],
   "source": [
    "Colors=(\"White\",\"Blue\",\"Pink\",\"Green\")\n",
    "mixed_dt=(\"Banana\",2021,20.21)\n",
    "single=(20, )\n",
    "\n",
    "print(Colors)\n",
    "print(mixed_dt[2])\n",
    "print(Colors[1:4])\n",
    "print(single)"
   ]
  },
  {
   "cell_type": "markdown",
   "id": "27782fe7-4ce1-470a-b7f4-21dff37bcd45",
   "metadata": {},
   "source": [
    "## Tuple Operations"
   ]
  },
  {
   "cell_type": "code",
   "execution_count": 12,
   "id": "35223de6-766d-45e5-a76e-27514090e4bb",
   "metadata": {},
   "outputs": [
    {
     "name": "stdout",
     "output_type": "stream",
     "text": [
      "('White', 'Blue', 'Pink', 'Green', 'Banana', 2021, 20.21)\n",
      "('Banana', 2021, 20.21, 'Banana', 2021, 20.21, 'Banana', 2021, 20.21)\n"
     ]
    }
   ],
   "source": [
    "# concatination\n",
    "\n",
    "Colors=(\"White\",\"Blue\",\"Pink\",\"Green\")\n",
    "mixed_dt=(\"Banana\",2021,20.21)\n",
    "concat=Colors+mixed_dt\n",
    "print(concat)\n",
    "\n",
    "#Repetition\n",
    "\n",
    "mixed_dt=(\"Banana\",2021,20.21)\n",
    "result=mixed_dt*3\n",
    "print(result)"
   ]
  },
  {
   "cell_type": "markdown",
   "id": "6637aa7b-c243-4f02-9a6c-e3145c3b162c",
   "metadata": {},
   "source": [
    "## Tuple Methods"
   ]
  },
  {
   "cell_type": "code",
   "execution_count": 15,
   "id": "e7d9a0a3-af39-43b5-b3d6-4e7ab4f00de5",
   "metadata": {},
   "outputs": [
    {
     "name": "stdout",
     "output_type": "stream",
     "text": [
      "3\n",
      "4\n"
     ]
    }
   ],
   "source": [
    "# count()\n",
    "\n",
    "numbers=(1,2,3,5,6,2,2,4,7,8,6,8)\n",
    "result=numbers.count(2)\n",
    "print(result)\n",
    "\n",
    "# index()\n",
    "\n",
    "numbers=(1,2,3,5,6,2,2,4,7,8,6,8)\n",
    "result=numbers.index(6)\n",
    "print(result)"
   ]
  },
  {
   "cell_type": "code",
   "execution_count": null,
   "id": "7b995497-6242-471d-92e4-7afd090e5eec",
   "metadata": {},
   "outputs": [],
   "source": []
  }
 ],
 "metadata": {
  "kernelspec": {
   "display_name": "Python 3 (ipykernel)",
   "language": "python",
   "name": "python3"
  },
  "language_info": {
   "codemirror_mode": {
    "name": "ipython",
    "version": 3
   },
   "file_extension": ".py",
   "mimetype": "text/x-python",
   "name": "python",
   "nbconvert_exporter": "python",
   "pygments_lexer": "ipython3",
   "version": "3.11.7"
  }
 },
 "nbformat": 4,
 "nbformat_minor": 5
}
