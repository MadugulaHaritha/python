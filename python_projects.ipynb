{
 "cells": [
  {
   "cell_type": "code",
   "execution_count": 146,
   "id": "d40ae2e2-cff1-4358-95dc-72f3827ba527",
   "metadata": {},
   "outputs": [
    {
     "name": "stdout",
     "output_type": "stream",
     "text": [
      "Restaurent Name : Family RESTUARENT\n",
      "Adress : HITECH CITY\n"
     ]
    },
    {
     "name": "stdin",
     "output_type": "stream",
     "text": [
      "Enter your item number:  1\n"
     ]
    },
    {
     "name": "stdout",
     "output_type": "stream",
     "text": [
      "Item is available\n"
     ]
    },
    {
     "name": "stdin",
     "output_type": "stream",
     "text": [
      "Enter your quantity: 2\n"
     ]
    },
    {
     "name": "stdout",
     "output_type": "stream",
     "text": [
      "Ordered item : Chicken Biryani\n",
      "Item price: 250\n",
      "Total price is: 500\n",
      "Total price with GST: 512.5\n",
      "Do u want to add other item (type y or n):\n"
     ]
    },
    {
     "name": "stdin",
     "output_type": "stream",
     "text": [
      "Enter y or n: y\n",
      "Enter your item number:  7\n"
     ]
    },
    {
     "name": "stdout",
     "output_type": "stream",
     "text": [
      "Item is available\n"
     ]
    },
    {
     "name": "stdin",
     "output_type": "stream",
     "text": [
      "Enter your quantity: 2\n"
     ]
    },
    {
     "name": "stdout",
     "output_type": "stream",
     "text": [
      "Ordered item : Water Bottels and Drinks\n",
      "Item price: 20\n",
      "Total price is: 40\n",
      "Total price with GST: 553.5\n",
      "Do u want to add other item (type y or n):\n"
     ]
    },
    {
     "name": "stdin",
     "output_type": "stream",
     "text": [
      "Enter y or n: n\n"
     ]
    },
    {
     "name": "stdout",
     "output_type": "stream",
     "text": [
      "------Thanks for Ordering--------\n"
     ]
    }
   ],
   "source": [
    "print(\"Restaurent Name : Family RESTUARENT\")\n",
    "print(\"Adress : HITECH CITY\")\n",
    "dict1={1:\"Chicken Biryani\",\n",
    "2:\"Mutton Biryani\",\n",
    "3:\"Paneer Tikka\",\n",
    "4:\"Veg Biryani\",\n",
    "5:\"Fish Biryani\",\n",
    "6:\"Prawns Biryani\",\n",
    "7:\"Water Bottels and Drinks\"}\n",
    "prices={1:250,2:300,3:180,4:200,5:250,6:350,7:20}\n",
    "item=int(input(\"Enter your item number: \"))\n",
    "if item in dict1:\n",
    "    print(\"Item is available\")\n",
    "    quantity=int(input(\"Enter your quantity:\"))\n",
    "else:\n",
    "    print(\"Item not available\")\n",
    "tprice=0\n",
    "for i in dict1:\n",
    "   \n",
    "    if item==i:\n",
    "        print(f\"Ordered item : {dict1[i]}\")\n",
    "        print(f\"Item price: {prices[i]}\")\n",
    "        print(f\"Total price is: {prices[i] * quantity}\")\n",
    "        gst=(prices[i]*5)/100\n",
    "        tprice+=prices[i] * quantity+gst\n",
    "        print(f\"Total price with GST: {tprice}\")\n",
    "        print(\"Do u want to add other item (type y or n):\")\n",
    "        x=input(\"Enter y or n:\")\n",
    "        if 'y' in x:\n",
    "            item=int(input(\"Enter your item number: \"))\n",
    "            if item in dict1:\n",
    "                print(\"Item is available\")\n",
    "                quantity=int(input(\"Enter your quantity:\"))\n",
    "                if item==i:\n",
    "                    print(f\"Ordered item : {dict1[i]}\")\n",
    "                    print(f\"Item price: {prices[i]}\")\n",
    "                    print(f\"Total price is: {prices[i] * quantity}\")\n",
    "                    gst=(prices[i]*5)/100\n",
    "                    tprice+=prices[i] * quantity+gst\n",
    "                    print(f\"Total price with GST: {tprice}\") \n",
    "            else:\n",
    "                print(\"Item not available\")\n",
    "                                                   \n",
    "        elif 'n' in x:\n",
    "            print(\"------Thanks for Ordering--------\")\n",
    "            \n"
   ]
  },
  {
   "cell_type": "code",
   "execution_count": 147,
   "id": "599a254a-bfc4-48f8-bfae-a4dcd7b35e06",
   "metadata": {},
   "outputs": [
    {
     "name": "stdout",
     "output_type": "stream",
     "text": [
      "BANK NAME: -----Vamsi International Bank-----\n",
      "Branch Name: Gachibowli\n",
      "IFSC Code: UBIN0535125\n"
     ]
    },
    {
     "name": "stdin",
     "output_type": "stream",
     "text": [
      "Enter a word('creation'/'credit'/'debit'): credit\n"
     ]
    },
    {
     "name": "stdout",
     "output_type": "stream",
     "text": [
      "Balance amount: 1000\n"
     ]
    },
    {
     "name": "stdin",
     "output_type": "stream",
     "text": [
      "Enter your amount:  600\n"
     ]
    },
    {
     "name": "stdout",
     "output_type": "stream",
     "text": [
      "Total amount: 1600\n"
     ]
    }
   ],
   "source": [
    "print(\"BANK NAME: -----Vamsi International Bank-----\")\n",
    "print(\"Branch Name: Gachibowli\")\n",
    "print(\"IFSC Code: UBIN0535125\")\n",
    "amount = 1000\n",
    "\n",
    "\n",
    "class creation:\n",
    "    def __init__(self):\n",
    "        print(\"Account Creation\")\n",
    "        name = input(\"Enter your name: \")\n",
    "        phoneno = input(\"Enter your Mobile number (10 digits): \")\n",
    "        if len(phoneno) == 10:\n",
    "            print(phoneno)\n",
    "        else:\n",
    "            print(\"Enter correct number\")\n",
    "            phoneno = input(\"Enter your Mobile number (10 digits): \")\n",
    "            print(f\"Balance amount: {amount}\")\n",
    "    def credit(self):\n",
    "        global amount\n",
    "        print(f\"Balance amount: {amount}\")\n",
    "        add_amount = int(input(\"Enter your amount: \"))\n",
    "        amount += add_amount\n",
    "        print(f\"Total amount: {amount}\")\n",
    "          \n",
    "        \n",
    "    def debit(self):\n",
    "        global amount\n",
    "        debit_amount = int(input(\"Enter your amount: \"))\n",
    "        if amount > debit_amount:\n",
    "            amount -= debit_amount\n",
    "            print(f\"Remaining balance: {amount}\")\n",
    "        else:\n",
    "            print(\"Insufficient balance\")\n",
    "\n",
    "# Test your functions\n",
    "\n",
    "x=input(\"Enter a word('creation'/'credit'/'debit'):\")\n",
    "if x=='creation':\n",
    "    c1=creation()\n",
    "elif x=='credit':\n",
    "    c1.credit()\n",
    "elif x=='debit':\n",
    "    c1.debit()\n",
    "else:\n",
    "    print(\"enter a valid word\")\n"
   ]
  },
  {
   "cell_type": "code",
   "execution_count": 145,
   "id": "ca776137-0af5-4512-8ccd-0b92ad7763fd",
   "metadata": {},
   "outputs": [
    {
     "name": "stdin",
     "output_type": "stream",
     "text": [
      "Enter your choice (rock,paper,scissor): scissor\n"
     ]
    },
    {
     "name": "stdout",
     "output_type": "stream",
     "text": [
      "computer choice: rock\n",
      "computer wins\n"
     ]
    }
   ],
   "source": [
    "import random\n",
    "\n",
    "word=input(\"Enter your choice (rock,paper,scissor):\")\n",
    "computer=random.choice(['rock', 'paper', 'scissor'])\n",
    "print(f\"computer choice: {computer}\")\n",
    "if (word=='rock' and computer=='paper') or (word=='paper' and computer=='rock') or (word=='scissor' and computer=='paper'):\n",
    "    print(\"you won\")\n",
    "elif word== computer:\n",
    "    print(\"Tie\")\n",
    "else:\n",
    "    print(\"computer wins\")\n",
    "\n"
   ]
  },
  {
   "cell_type": "code",
   "execution_count": null,
   "id": "2db499ec-d9dc-4448-9854-ba0b32fe2924",
   "metadata": {},
   "outputs": [],
   "source": []
  }
 ],
 "metadata": {
  "kernelspec": {
   "display_name": "Python 3 (ipykernel)",
   "language": "python",
   "name": "python3"
  },
  "language_info": {
   "codemirror_mode": {
    "name": "ipython",
    "version": 3
   },
   "file_extension": ".py",
   "mimetype": "text/x-python",
   "name": "python",
   "nbconvert_exporter": "python",
   "pygments_lexer": "ipython3",
   "version": "3.11.7"
  }
 },
 "nbformat": 4,
 "nbformat_minor": 5
}
