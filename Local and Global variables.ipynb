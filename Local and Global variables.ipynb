{
 "cells": [
  {
   "cell_type": "code",
   "execution_count": 2,
   "id": "bd579c0f-10ca-495e-bfc1-6e65949949d6",
   "metadata": {},
   "outputs": [
    {
     "name": "stdout",
     "output_type": "stream",
     "text": [
      "10\n"
     ]
    }
   ],
   "source": [
    "#Local\n",
    "def var():\n",
    "    x=10\n",
    "    print(x)\n",
    "\n",
    "var()"
   ]
  },
  {
   "cell_type": "code",
   "execution_count": 3,
   "id": "fa978324-5e4c-452f-95dc-908ea74a8999",
   "metadata": {},
   "outputs": [
    {
     "name": "stdout",
     "output_type": "stream",
     "text": [
      "Accessing outside a fun:10\n",
      "Accessing inside a fun:10\n"
     ]
    }
   ],
   "source": [
    "#Global\n",
    "\n",
    "x=10\n",
    "def var1():\n",
    "    print(f\"Accessing inside a fun:{x}\")\n",
    "\n",
    "print(f\"Accessing outside a fun:{x}\")\n",
    "var1()"
   ]
  },
  {
   "cell_type": "code",
   "execution_count": null,
   "id": "2d87e252-3cd8-4800-be84-b7bbee47a36e",
   "metadata": {},
   "outputs": [],
   "source": []
  }
 ],
 "metadata": {
  "kernelspec": {
   "display_name": "Python 3 (ipykernel)",
   "language": "python",
   "name": "python3"
  },
  "language_info": {
   "codemirror_mode": {
    "name": "ipython",
    "version": 3
   },
   "file_extension": ".py",
   "mimetype": "text/x-python",
   "name": "python",
   "nbconvert_exporter": "python",
   "pygments_lexer": "ipython3",
   "version": "3.11.7"
  }
 },
 "nbformat": 4,
 "nbformat_minor": 5
}
