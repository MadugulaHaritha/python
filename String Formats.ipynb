{
 "cells": [
  {
   "cell_type": "code",
   "execution_count": 10,
   "id": "55315175-a5bf-4496-a0d9-4c8c39de3564",
   "metadata": {},
   "outputs": [
    {
     "name": "stdout",
     "output_type": "stream",
     "text": [
      "This is Haritha and I am learning DataScience Technology.\n",
      "I am Harika and I am 22 old.\n",
      "Which color you like White or Black.\n"
     ]
    }
   ],
   "source": [
    "#String Formats\n",
    "\n",
    "Name=\"Haritha\"                         # % Operator\n",
    "Technology=\"DataScience\"\n",
    "Information=\"This is %s and I am learning %s Technology.\"%(Name,Technology)\n",
    "print(Information)\n",
    "\n",
    "Name=\"Harika\"\n",
    "Age=22\n",
    "information=\"I am %s and I am %d old.\"%(Name,Age)\n",
    "print(information)\n",
    "\n",
    "Color=\"White\",\"Black\"\n",
    "Sentence=\"Which color you like %s or %s.\"%(Color)\n",
    "print(Sentence)"
   ]
  },
  {
   "cell_type": "code",
   "execution_count": 14,
   "id": "dea328bb-d8ab-473a-8d62-87d2497babb9",
   "metadata": {},
   "outputs": [
    {
     "name": "stdout",
     "output_type": "stream",
     "text": [
      "She is Sangeetha and She is my Friend.\n",
      "Sangeetha is 23 years old.\n",
      "We both are friends from 7 years.\n",
      "She is Sangeetha and She is my Friend. Sangeetha is 23 years old. We both are friends from 7 years.\n"
     ]
    }
   ],
   "source": [
    "Name=\"Sangeetha\"                     #Format Method\n",
    "Relation=\"Friend\"\n",
    "age=23\n",
    "years=7\n",
    "Sentence=\"She is {} and She is my {}.\".format(Name,Relation)\n",
    "Sentence_1=\"{} is {} years old.\".format(Name,age)\n",
    "Sentence_2=\"We both are friends from {} years.\".format(years)\n",
    "print(Sentence)\n",
    "print(Sentence_1)\n",
    "print(Sentence_2)\n",
    "print(Sentence,Sentence_1,Sentence_2)"
   ]
  },
  {
   "cell_type": "code",
   "execution_count": 32,
   "id": "b1e62c47-b724-4fc0-aa24-30bd42a5611a",
   "metadata": {},
   "outputs": [
    {
     "name": "stdout",
     "output_type": "stream",
     "text": [
      "This is Harika and I am 22 old.\n",
      "She is my Sister.\n",
      "Harika and Haritha both are Sisters.\n"
     ]
    }
   ],
   "source": [
    "Name=\"Harika\"                        #f-strings\n",
    "Age=22\n",
    "Relation=\"Sister\"\n",
    "sentence=f\"This is {Name} and I am {Age} old.\"\n",
    "sentence_1=f\"She is my {Relation}.\"\n",
    "sentence_2=f\"{Name} and Haritha both are {Relation}s.\"\n",
    "print(sentence)\n",
    "print(sentence_1)\n",
    "print(sentence_2)"
   ]
  },
  {
   "cell_type": "code",
   "execution_count": 34,
   "id": "c5d54aa8-436d-4808-9709-95e2a451ab17",
   "metadata": {},
   "outputs": [
    {
     "name": "stdin",
     "output_type": "stream",
     "text": [
      "Name is: Haritha\n",
      "Age is: 22\n",
      "Which color you like: Blue\n"
     ]
    },
    {
     "name": "stdout",
     "output_type": "stream",
     "text": [
      "Haritha\n",
      "22\n",
      "Blue\n"
     ]
    }
   ],
   "source": [
    "name=input(\"Name is:\")\n",
    "age=int(input(\"Age is:\"))\n",
    "color=input(\"Which color you like:\")\n",
    "print(name)\n",
    "print(age)\n",
    "print(color)"
   ]
  },
  {
   "cell_type": "code",
   "execution_count": 5,
   "id": "b84bc196-84f1-4742-9705-0682e8838e87",
   "metadata": {},
   "outputs": [
    {
     "name": "stdin",
     "output_type": "stream",
     "text": [
      "name is: Haritha\n"
     ]
    },
    {
     "name": "stdout",
     "output_type": "stream",
     "text": [
      "your name is Haritha.\n",
      "my name is Haritha.\n",
      "my name is Haritha.\n"
     ]
    }
   ],
   "source": [
    "name=input(\"name is:\")\n",
    "sentence=\"your name is {}.\".format(name)\n",
    "Sentence=\"my name is %s.\"%(name)\n",
    "_sentence=f\"my name is {name}.\"\n",
    "print(sentence)\n",
    "print(Sentence)\n",
    "print(_sentence)"
   ]
  },
  {
   "cell_type": "code",
   "execution_count": 1,
   "id": "e7669d4d-74cb-4cbe-a93e-b4ba860665a7",
   "metadata": {},
   "outputs": [
    {
     "name": "stdin",
     "output_type": "stream",
     "text": [
      "Enter your name: Haritha\n",
      "Enter your age: 22\n"
     ]
    },
    {
     "name": "stdout",
     "output_type": "stream",
     "text": [
      "This is Haritha and I am 22 old.\n"
     ]
    }
   ],
   "source": [
    "Name=input(\"Enter your name:\")                  # using f-string dynamically\n",
    "Age=input(\"Enter your age:\")\n",
    "sentence=f\"This is {Name} and I am {Age} old.\"\n",
    "print(sentence)"
   ]
  },
  {
   "cell_type": "code",
   "execution_count": 2,
   "id": "9445fb29-d71e-48c1-ad20-4d2104e8edf4",
   "metadata": {},
   "outputs": [
    {
     "name": "stdin",
     "output_type": "stream",
     "text": [
      "Enter your name: Harika\n",
      "Enter your age: 24\n"
     ]
    },
    {
     "name": "stdout",
     "output_type": "stream",
     "text": [
      "Harika is my sister and she is 24 years old.\n"
     ]
    }
   ],
   "source": [
    "Name=input(\"Enter your name:\")                   # using format  method dynamically\n",
    "Age=input(\"Enter your age:\")\n",
    "sentence=\"{} is my sister and she is {} years old.\".format(Name,Age)\n",
    "print(sentence)"
   ]
  },
  {
   "cell_type": "code",
   "execution_count": 4,
   "id": "bf011e93-097a-45de-94d2-2fa40e5cad1f",
   "metadata": {},
   "outputs": [
    {
     "name": "stdin",
     "output_type": "stream",
     "text": [
      "Enter your name: Harika\n",
      "Enter another name: Haritha\n"
     ]
    },
    {
     "name": "stdout",
     "output_type": "stream",
     "text": [
      "Harika and Haritha both are sisters\n"
     ]
    }
   ],
   "source": [
    "Name=input(\"Enter your name:\")                     # using %operator dynamically\n",
    "Name_1=input(\"Enter another name:\")\n",
    "sentence=\"%s and %s both are sisters\"%(Name,Name_1)\n",
    "print(sentence)"
   ]
  },
  {
   "cell_type": "code",
   "execution_count": null,
   "id": "9c358979-fb63-4ca4-bbf0-38813f4e1854",
   "metadata": {},
   "outputs": [],
   "source": []
  }
 ],
 "metadata": {
  "kernelspec": {
   "display_name": "Python 3 (ipykernel)",
   "language": "python",
   "name": "python3"
  },
  "language_info": {
   "codemirror_mode": {
    "name": "ipython",
    "version": 3
   },
   "file_extension": ".py",
   "mimetype": "text/x-python",
   "name": "python",
   "nbconvert_exporter": "python",
   "pygments_lexer": "ipython3",
   "version": "3.11.7"
  }
 },
 "nbformat": 4,
 "nbformat_minor": 5
}
