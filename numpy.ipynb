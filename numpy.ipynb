{
 "cells": [
  {
   "cell_type": "code",
   "execution_count": 4,
   "id": "09f7d61f-2cb6-40d6-96ed-4695154e8cbf",
   "metadata": {},
   "outputs": [
    {
     "data": {
      "text/plain": [
       "array([[1., 1.],\n",
       "       [1., 1.]])"
      ]
     },
     "execution_count": 4,
     "metadata": {},
     "output_type": "execute_result"
    }
   ],
   "source": [
    "import numpy as np\n",
    "\n",
    "np.ones((2,2))"
   ]
  },
  {
   "cell_type": "code",
   "execution_count": 5,
   "id": "744c382f-5cfe-497b-b300-a6213f28cf2b",
   "metadata": {},
   "outputs": [
    {
     "data": {
      "text/plain": [
       "array([[0., 0., 0.],\n",
       "       [0., 0., 0.]])"
      ]
     },
     "execution_count": 5,
     "metadata": {},
     "output_type": "execute_result"
    }
   ],
   "source": [
    "np.zeros((2,3))"
   ]
  },
  {
   "cell_type": "code",
   "execution_count": 34,
   "id": "08251894-3bf5-4875-bea1-a67586dbd50d",
   "metadata": {},
   "outputs": [
    {
     "name": "stdout",
     "output_type": "stream",
     "text": [
      "[ 1  4  7 10 13 16 19]\n"
     ]
    }
   ],
   "source": [
    "x=np.arange(1,20,3)\n",
    "print(x)"
   ]
  },
  {
   "cell_type": "code",
   "execution_count": 47,
   "id": "6157c448-bebd-4c59-8c7a-aefc696ac68e",
   "metadata": {},
   "outputs": [
    {
     "name": "stdout",
     "output_type": "stream",
     "text": [
      "[ 1.    5.75 10.5  15.25 20.  ]\n"
     ]
    }
   ],
   "source": [
    "x=np.linspace(1,20,5)\n",
    "print(x)"
   ]
  },
  {
   "cell_type": "code",
   "execution_count": 21,
   "id": "bcee45ee-71f6-463b-b4a2-f02f137c1820",
   "metadata": {},
   "outputs": [
    {
     "name": "stdout",
     "output_type": "stream",
     "text": [
      "[20 20 20 20 20 20 20]\n",
      "1\n",
      "-----------\n",
      "[[7 7 7]\n",
      " [7 7 7]]\n",
      "2\n",
      "-----------\n",
      "[[[9 9 9]\n",
      "  [9 9 9]\n",
      "  [9 9 9]]\n",
      "\n",
      " [[9 9 9]\n",
      "  [9 9 9]\n",
      "  [9 9 9]]]\n",
      "3\n"
     ]
    }
   ],
   "source": [
    "#array filling for 1D\n",
    "\n",
    "y=np.full((7),20)\n",
    "print(y)\n",
    "#To know the dimension of array\n",
    "print(y.ndim)\n",
    "\n",
    "print(\"-----------\")\n",
    "\n",
    "#array filling for 2D\n",
    "\n",
    "z=np.full((2,3),7)\n",
    "print(z)\n",
    "print(z.ndim)\n",
    "\n",
    "print(\"-----------\")\n",
    "#array filling for 2D\n",
    "\n",
    "e=np.full((2,3,3),9)\n",
    "print(e)\n",
    "print(e.ndim)"
   ]
  },
  {
   "cell_type": "code",
   "execution_count": 24,
   "id": "5cdf1eab-5a08-43e1-901e-6bacc05e9775",
   "metadata": {},
   "outputs": [
    {
     "name": "stdout",
     "output_type": "stream",
     "text": [
      "(2, 3)\n"
     ]
    }
   ],
   "source": [
    "#To find shape\n",
    "arr=np.array([[7, 7 ,7],[7, 7, 7]])\n",
    "print(arr.shape)"
   ]
  },
  {
   "cell_type": "code",
   "execution_count": 30,
   "id": "87ec0864-ef0f-4f87-a9f4-487420083cf5",
   "metadata": {},
   "outputs": [
    {
     "name": "stdout",
     "output_type": "stream",
     "text": [
      "[[1. 0. 0.]\n",
      " [0. 1. 0.]\n",
      " [0. 0. 1.]]\n",
      "-----------\n",
      "[[0.36354354 0.23494708]\n",
      " [0.59162642 0.41388893]]\n",
      "4\n",
      "2\n"
     ]
    }
   ],
   "source": [
    "#Identity matrix\n",
    "\n",
    "e=np.eye(3)\n",
    "print(e)\n",
    "\n",
    "print(\"-----------\")\n",
    "\n",
    "#To get random values\n",
    "arr=np.random.random((2,2))\n",
    "print(arr)\n",
    "print(arr.size) #will give number of elements in array\n",
    "print(len(arr)) #will calcualte only rows"
   ]
  },
  {
   "cell_type": "code",
   "execution_count": 40,
   "id": "877d6143-e642-4239-9f31-890e2f5fd8c5",
   "metadata": {},
   "outputs": [
    {
     "name": "stdout",
     "output_type": "stream",
     "text": [
      "[29 46 32]\n",
      "[ 11  -4 -12]\n",
      "[180 525 220]\n",
      "[2.22222222 0.84       0.45454545]\n",
      "[4.47213595 4.58257569 3.16227766]\n",
      "[3.         5.         4.69041576]\n",
      "21\n",
      "30\n"
     ]
    }
   ],
   "source": [
    "#Math operations\n",
    "x=[20,21,10]\n",
    "y=[9,25,22]\n",
    "print(np.add(x,y))\n",
    "print(np.subtract(x,y))\n",
    "print(np.multiply(x,y))\n",
    "print(np.divide(x,y))\n",
    "print(np.sqrt(x))\n",
    "print(np.sqrt(y))\n",
    "\n",
    "#Accessing\n",
    "print(x[1])\n",
    "\n",
    "#Adding two index values\n",
    "\n",
    "print(x[1]+y[0])"
   ]
  },
  {
   "cell_type": "code",
   "execution_count": 17,
   "id": "4a49726c-ccbb-4cb7-a8c4-389d04d5563f",
   "metadata": {},
   "outputs": [
    {
     "name": "stdout",
     "output_type": "stream",
     "text": [
      "Original Array: [6, 7, 7]\n",
      "Copied Array: [7, 7, 7]\n",
      "Original Array: [6 7 7]\n",
      "Viewed Array: [6 7 7]\n",
      "Array Shape: (3, 4)\n",
      "Reshaping array:[[2 3 4]\n",
      " [5 6 7]\n",
      " [8 9 1]]\n"
     ]
    }
   ],
   "source": [
    "#Copy method\n",
    "\n",
    "arr=[7,7,7]\n",
    "copy_arr=arr.copy()\n",
    "arr[0]=6\n",
    "print(f\"Original Array: {arr}\")\n",
    "print(f\"Copied Array: {copy_arr}\")\n",
    "\n",
    "#View Method\n",
    "\n",
    "arr=np.array([7,7,7])\n",
    "view_arr=arr.view()\n",
    "arr[0]=6\n",
    "print(f\"Original Array: {arr}\")\n",
    "print(f\"Viewed Array: {view_arr}\")\n",
    "\n",
    "#Shape Method\n",
    "\n",
    "arr=np.array([[1, 2, 3, 4], [5, 6, 7, 8],[2,5,8,6]])\n",
    "arr.shape\n",
    "print(f\"Array Shape: {arr.shape}\")\n",
    "\n",
    "#Reshaping Method \n",
    "arr=np.array([[2,3,4,5,6,7,8,9,1]])\n",
    "print(f\"Reshaping array:{ arr.reshape(3,3)}\")"
   ]
  },
  {
   "cell_type": "code",
   "execution_count": null,
   "id": "2057a55d-7c08-4eab-9453-a7fcdb87eec4",
   "metadata": {},
   "outputs": [],
   "source": []
  }
 ],
 "metadata": {
  "kernelspec": {
   "display_name": "Python 3 (ipykernel)",
   "language": "python",
   "name": "python3"
  },
  "language_info": {
   "codemirror_mode": {
    "name": "ipython",
    "version": 3
   },
   "file_extension": ".py",
   "mimetype": "text/x-python",
   "name": "python",
   "nbconvert_exporter": "python",
   "pygments_lexer": "ipython3",
   "version": "3.11.7"
  }
 },
 "nbformat": 4,
 "nbformat_minor": 5
}
