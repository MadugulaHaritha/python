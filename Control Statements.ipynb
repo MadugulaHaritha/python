{
 "cells": [
  {
   "cell_type": "code",
   "execution_count": 3,
   "id": "a64abada-6c4e-4c3f-8e95-dbfbec8af12d",
   "metadata": {},
   "outputs": [
    {
     "name": "stdout",
     "output_type": "stream",
     "text": [
      "0\n",
      "1\n",
      "2\n",
      "3\n",
      "4\n",
      "6\n",
      "7\n",
      "8\n",
      "9\n",
      "____________\n",
      "Banana\n",
      "Grapes\n",
      "Orange\n"
     ]
    }
   ],
   "source": [
    "#Pass\n",
    "\n",
    "for i in range(10):\n",
    "    if i==5:\n",
    "        pass\n",
    "    else:\n",
    "        print(i)\n",
    "\n",
    "print(\"____________\")\n",
    "\n",
    "\n",
    "fruits={\"Apple\",\"Banana\",\"Orange\",\"Grapes\"}\n",
    "for i in fruits:\n",
    "    if i==\"Apple\":\n",
    "        pass\n",
    "    else:\n",
    "        print(i)\n",
    "    "
   ]
  },
  {
   "cell_type": "code",
   "execution_count": 9,
   "id": "45d07c70-c26a-49b4-9ba6-c20200b73b13",
   "metadata": {},
   "outputs": [
    {
     "name": "stdout",
     "output_type": "stream",
     "text": [
      "0\n",
      "1\n",
      "2\n",
      "3\n",
      "4\n"
     ]
    }
   ],
   "source": [
    "#Break\n",
    "\n",
    "for i in range(10):\n",
    "    if i==5:\n",
    "        break\n",
    "    else:\n",
    "        print(i)"
   ]
  },
  {
   "cell_type": "code",
   "execution_count": 10,
   "id": "a47a80e0-f0ca-440a-afa2-a8dcda9f6921",
   "metadata": {},
   "outputs": [
    {
     "name": "stdout",
     "output_type": "stream",
     "text": [
      "0\n",
      "1\n",
      "2\n",
      "3\n",
      "4\n",
      "6\n",
      "7\n",
      "8\n",
      "9\n"
     ]
    }
   ],
   "source": [
    "#Continue\n",
    "\n",
    "for i in range(10):\n",
    "    if i==5:\n",
    "        continue\n",
    "    else:\n",
    "        print(i)"
   ]
  },
  {
   "cell_type": "code",
   "execution_count": null,
   "id": "153a56cd-e2b7-4764-b06a-970086332a08",
   "metadata": {},
   "outputs": [],
   "source": []
  }
 ],
 "metadata": {
  "kernelspec": {
   "display_name": "Python 3 (ipykernel)",
   "language": "python",
   "name": "python3"
  },
  "language_info": {
   "codemirror_mode": {
    "name": "ipython",
    "version": 3
   },
   "file_extension": ".py",
   "mimetype": "text/x-python",
   "name": "python",
   "nbconvert_exporter": "python",
   "pygments_lexer": "ipython3",
   "version": "3.11.7"
  }
 },
 "nbformat": 4,
 "nbformat_minor": 5
}
