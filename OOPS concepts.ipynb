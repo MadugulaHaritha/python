{
 "cells": [
  {
   "cell_type": "code",
   "execution_count": 2,
   "id": "5571b3fb-30b7-452c-ad50-38d33ae03730",
   "metadata": {},
   "outputs": [
    {
     "name": "stdout",
     "output_type": "stream",
     "text": [
      "parrot is 10 years old\n"
     ]
    }
   ],
   "source": [
    "#Class Creation\n",
    "class Animal:\n",
    "    name = \"\"\n",
    "    age = 0\n",
    "\n",
    "#Object Creation\n",
    "Birds = Animal()\n",
    "Birds.name = \"parrot\"\n",
    "Birds.age = 10\n",
    "\n",
    "# access attributes\n",
    "print(f\"{Birds.name} is {Birds.age} years old\")"
   ]
  },
  {
   "cell_type": "code",
   "execution_count": 7,
   "id": "51b8c1b7-231e-44f5-84cf-b6292c8967b4",
   "metadata": {},
   "outputs": [
    {
     "name": "stdout",
     "output_type": "stream",
     "text": [
      "I am a cow.\n",
      "I am a sheep.\n",
      "I can bark.\n"
     ]
    }
   ],
   "source": [
    "#Inheritance\n",
    "\n",
    "# base class\n",
    "class Animal:\n",
    "    \n",
    "    def cow(self):\n",
    "        print( \"I am a cow.\")\n",
    "    \n",
    "    def sheep(self):\n",
    "        print(\"I am a sheep.\")\n",
    "\n",
    "# derived class\n",
    "class Dog(Animal):\n",
    "    \n",
    "    def bark(self):\n",
    "        print(\"I can bark.\")\n",
    "\n",
    "\n",
    "dog1 = Dog()\n",
    "dog1.cow()\n",
    "dog1.sheep()\n",
    "dog1.bark();"
   ]
  },
  {
   "cell_type": "code",
   "execution_count": 12,
   "id": "e0f6f75a-27e7-4f79-8fde-8b99c8903913",
   "metadata": {},
   "outputs": [
    {
     "name": "stdout",
     "output_type": "stream",
     "text": [
      "There are many types of birds.\n",
      "Most of the birds can fly but some cannot.\n",
      "There are many types of birds.\n",
      "Sparrows can fly.\n",
      "There are many types of birds.\n",
      "Ostriches cannot fly.\n"
     ]
    }
   ],
   "source": [
    "#Polymorphism\n",
    "\n",
    "class Bird:\n",
    "  \n",
    "    def intro(self):\n",
    "        print(\"There are many types of birds.\")\n",
    "\n",
    "    def flight(self):\n",
    "        print(\"Most of the birds can fly but some cannot.\")\n",
    "\n",
    "class sparrow(Bird):\n",
    "  \n",
    "    def flight(self):\n",
    "        print(\"Sparrows can fly.\")\n",
    "\n",
    "class ostrich(Bird):\n",
    "\n",
    "    def flight(self):\n",
    "        print(\"Ostriches cannot fly.\")\n",
    "\n",
    "obj_bird = Bird()\n",
    "obj_spr = sparrow()\n",
    "obj_ost = ostrich()\n",
    "\n",
    "obj_bird.intro()\n",
    "obj_bird.flight()\n",
    "obj_spr.intro()\n",
    "obj_spr.flight()\n",
    "obj_ost.intro()\n",
    "obj_ost.flight()\n",
    "\n"
   ]
  },
  {
   "cell_type": "code",
   "execution_count": 19,
   "id": "e13bc4a7-92e0-4c67-abe3-2ec08ec9a819",
   "metadata": {},
   "outputs": [
    {
     "name": "stdout",
     "output_type": "stream",
     "text": [
      "Hi\n"
     ]
    }
   ],
   "source": [
    "#Encapsulation\n",
    "\n",
    "class Base:\n",
    "    def __init__(self):\n",
    "        self.a = \"Hi\"\n",
    "        self.__c = \"Hello\" \n",
    "\n",
    "class Derived(Base):\n",
    "    def __init__(self):\n",
    "        Base.__init__(self)\n",
    "        print(\"Calling private member of base class: \")\n",
    "        print(self.__c)\n",
    "\n",
    "\n",
    "# Driver code\n",
    "obj1 = Base()\n",
    "print(obj1.a)"
   ]
  },
  {
   "cell_type": "code",
   "execution_count": null,
   "id": "94ead303-701a-438e-9522-bf8c7414bf06",
   "metadata": {},
   "outputs": [],
   "source": []
  }
 ],
 "metadata": {
  "kernelspec": {
   "display_name": "Python 3 (ipykernel)",
   "language": "python",
   "name": "python3"
  },
  "language_info": {
   "codemirror_mode": {
    "name": "ipython",
    "version": 3
   },
   "file_extension": ".py",
   "mimetype": "text/x-python",
   "name": "python",
   "nbconvert_exporter": "python",
   "pygments_lexer": "ipython3",
   "version": "3.11.7"
  }
 },
 "nbformat": 4,
 "nbformat_minor": 5
}
