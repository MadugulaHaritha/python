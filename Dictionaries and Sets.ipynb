{
 "cells": [
  {
   "cell_type": "code",
   "execution_count": 2,
   "id": "487d63d7-da64-4141-8287-0900c0a01bcd",
   "metadata": {},
   "outputs": [
    {
     "name": "stdout",
     "output_type": "stream",
     "text": [
      "Haritha\n",
      "{'name': 'Harika', 'age': 22, 'profession': 'Developer'}\n",
      "{'name': 'Harika', 'age': 22, 'profession': 'Developer', 'gender': 'Female'}\n",
      "22\n"
     ]
    }
   ],
   "source": [
    "#Dictionaries\n",
    "\n",
    "dict_values={\n",
    "    \"name\":\"Haritha\",\n",
    "    \"age\":22,\n",
    "    \"profession\":\"Developer\"\n",
    "}\n",
    "\n",
    "print(dict_values[\"name\"])    #Accessing\n",
    "\n",
    "dict_values[\"name\"]=\"Harika\"   #Modifying\n",
    "print(dict_values)\n",
    "\n",
    "dict_values[\"gender\"]=\"Female\"  #Adding\n",
    "print(dict_values)\n",
    "\n",
    "h=dict_values.get(\"age\")\n",
    "print(h)"
   ]
  },
  {
   "cell_type": "code",
   "execution_count": 44,
   "id": "26ab8fa1-60fc-43e7-b6b7-b45dd2024fcc",
   "metadata": {},
   "outputs": [
    {
     "name": "stdout",
     "output_type": "stream",
     "text": [
      "21\n",
      "dict_keys(['name', 'age', 'profession'])\n",
      "dict_values(['Haritha', 21, 'Software'])\n",
      "dict_items([('name', 'Haritha'), ('age', 21), ('profession', 'Software')])\n",
      "Haritha\n",
      "('profession', 'Software')\n",
      "{'age': 21, 'name': 'Harika'}\n"
     ]
    }
   ],
   "source": [
    "dict_values={                           # Dictionary methods\n",
    "    \"name\":\"Haritha\",\n",
    "    \"age\":21,\n",
    "    \"profession\":\"Software\"\n",
    "}\n",
    "\n",
    "h=dict_values.get(\"age\")\n",
    "print(h)\n",
    "\n",
    "key=dict_values.keys()\n",
    "print(key)\n",
    "\n",
    "value=dict_values.values()\n",
    "print(value)\n",
    "\n",
    "item=dict_values.items()\n",
    "print(item)\n",
    "\n",
    "pop=dict_values.pop(\"name\")\n",
    "print(pop)\n",
    "\n",
    "popitem=dict_values.popitem()\n",
    "print(popitem)\n",
    "\n",
    "update={\"name\":\"Harika\"}\n",
    "dict_values.update(update)\n",
    "print(dict_values)"
   ]
  },
  {
   "cell_type": "code",
   "execution_count": 7,
   "id": "9dc266b2-ddb6-4636-b6cc-034be1114c23",
   "metadata": {},
   "outputs": [
    {
     "name": "stdout",
     "output_type": "stream",
     "text": [
      "{50, 20, 5, 6, 21, 89, 90}\n",
      "None\n",
      "None\n",
      "{1, 2, 3, 4, 5, 6, 7, 9, 50, 20, 21, 89, 90}\n",
      "{1, 2, 3, 4, 5, 6, 7, 99, 9, 85}\n",
      "{'Orange', 'white', 'Grapes', 'Banana', 'light pink', 'Black', 'Violet', 'Red', 'Blue'}\n",
      "{5, 6}\n",
      "set()\n",
      "{1, 2, 3, 4, 7, 9}\n",
      "{'Orange', 'Grapes', 'Banana'}\n",
      "{1, 2, 3, 4, 7, 9, 20, 21, 89, 90, 50}\n",
      "{'Orange', 'white', 'Grapes', 'light pink', 'Black', 'Banana', 'Violet', 'Red', 'Blue'}\n"
     ]
    }
   ],
   "source": [
    "# Sets\n",
    "\n",
    "numbers={1,2,3,4,5,5,4,6,7,9,2}\n",
    "numbers_1={20,21,5,6,89,90}\n",
    "fruits={\"Apple\",\"Banana\",\"Orange\",\"Grapes\"}\n",
    "colors={\"white\",\"Black\",\"Blue\",\"light pink\"}\n",
    "new_color={\"Red\",\"Violet\"}\n",
    "\n",
    "numbers_1.add(50)    #Adding item\n",
    "print(numbers_1)\n",
    "\n",
    "color=colors.update(new_color)\n",
    "print(color)\n",
    "\n",
    "remove=fruits.discard('Apple')\n",
    "print(remove)\n",
    "\n",
    "#Set Operations\n",
    "\n",
    "print(numbers|numbers_1) #union\n",
    "print(numbers|{2,99,85})\n",
    "print(fruits.union(colors))\n",
    "\n",
    "print(numbers&numbers_1) #intersection\n",
    "print(fruits.intersection(colors))\n",
    "\n",
    "print(numbers-numbers_1) #differ b/w two sets\n",
    "print(fruits.difference(colors))\n",
    "\n",
    "print(numbers^numbers_1) #set symmetric diff\n",
    "print(fruits.symmetric_difference(colors))\n"
   ]
  },
  {
   "cell_type": "code",
   "execution_count": 20,
   "id": "20937a61-7221-4646-8734-ac4cb9da079c",
   "metadata": {},
   "outputs": [
    {
     "name": "stdout",
     "output_type": "stream",
     "text": [
      "{'light pink', 'Black', 'Violet', 'Red', 'white', 'Blue'}\n"
     ]
    },
    {
     "data": {
      "text/plain": [
       "{'Banana', 'Grapes', 'Orange'}"
      ]
     },
     "execution_count": 20,
     "metadata": {},
     "output_type": "execute_result"
    }
   ],
   "source": [
    "fruits={\"Apple\",\"Banana\",\"Orange\",\"Grapes\"}\n",
    "colors={\"white\",\"Black\",\"Blue\",\"light pink\"}\n",
    "new_color={\"Red\",\"Violet\"}\n",
    "\n",
    "colors.update(new_color)\n",
    "print(colors)\n",
    "\n",
    "fruits.discard('Apple')\n",
    "fruits"
   ]
  }
 ],
 "metadata": {
  "kernelspec": {
   "display_name": "Python 3 (ipykernel)",
   "language": "python",
   "name": "python3"
  },
  "language_info": {
   "codemirror_mode": {
    "name": "ipython",
    "version": 3
   },
   "file_extension": ".py",
   "mimetype": "text/x-python",
   "name": "python",
   "nbconvert_exporter": "python",
   "pygments_lexer": "ipython3",
   "version": "3.11.7"
  }
 },
 "nbformat": 4,
 "nbformat_minor": 5
}
